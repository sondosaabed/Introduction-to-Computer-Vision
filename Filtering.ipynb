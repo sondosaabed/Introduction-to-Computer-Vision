{
 "cells": [
  {
   "cell_type": "markdown",
   "metadata": {},
   "source": [
    "### <b>Filtering</b>"
   ]
  },
  {
   "cell_type": "markdown",
   "metadata": {},
   "source": [
    "Suppose I have a noise instead and I want to remove it instead of apply it.\n",
    "\n",
    "- Replace the value of pixel of sort of an average of the pixels around it.\n",
    "- Smoothed: Averaged it locally \n",
    "\n",
    "Assumptions:\n",
    "- Because probably value of pixel are similar to the true value of pixels.\n",
    "- The noise is added independantly to each pixel.\n",
    "\n",
    "![Alt text](Explanation_images/noiseSol1.png)"
   ]
  },
  {
   "cell_type": "markdown",
   "metadata": {},
   "source": [
    "<b>Weighted Moving Avergae</b>\n",
    "- Actually better than the uniformal wiethed it's smoother \n",
    "- We tend to use odd weights: makes it easier to have a middle pixel\n",
    "\n",
    "![Weighted Smooth](Explanation_images/weightedSmooth.png)"
   ]
  },
  {
   "cell_type": "markdown",
   "metadata": {},
   "source": [
    "<b>Moving Average in 2D</b>\n",
    "\n",
    "![Alt text](Explanation_images/2DMovAvg.png)"
   ]
  },
  {
   "cell_type": "markdown",
   "metadata": {},
   "source": [
    "<b>Correlation Filtering</b>\n",
    "\n",
    "![Alt text](Explanation_images/CorFilter.png)"
   ]
  },
  {
   "cell_type": "markdown",
   "metadata": {},
   "source": [
    "<b>Gaussian Filter</b>\n",
    "- Neasrest neighboring pixels have the most influence.\n",
    "- Isotropic has one parameter (sigma)\n",
    "\n",
    "\n",
    "![Alt text](Explanation_images/gaussian.png)\n",
    "\n",
    "\n",
    "![Alt text](Explanation_images/extentOfSmooth.png)"
   ]
  },
  {
   "cell_type": "markdown",
   "metadata": {},
   "source": [
    "<b>Keeping the Two Gaussians Straight</b>\n",
    "\n",
    "![Alt text](Explanation_images/TwoSigmas.png)"
   ]
  },
  {
   "cell_type": "markdown",
   "metadata": {},
   "source": [
    "### <b>Linearity & Convolution</b>"
   ]
  },
  {
   "cell_type": "markdown",
   "metadata": {},
   "source": [
    "![Alt text](Explanation_images/linearity.png)"
   ]
  },
  {
   "cell_type": "markdown",
   "metadata": {},
   "source": [
    "impulse function and responsse\n",
    "- a building value of a function\n",
    "- an impulse a small signal that it's area is one.\n",
    "- Think of an impulse (image) as the identity for convolution.\n",
    "\n",
    "Digital images and filters are both essentially matrices, so they behave in the same manner."
   ]
  },
  {
   "cell_type": "markdown",
   "metadata": {},
   "source": [
    "if Kernel size is M*M and pic size is N*N then N*N*M*M multiplications"
   ]
  },
  {
   "cell_type": "markdown",
   "metadata": {},
   "source": [
    "<b>Convultion properties</b>\n",
    "- Linear and shift invariant\n",
    "- Commutative\n",
    "- Associative\n",
    "- Identity"
   ]
  },
  {
   "cell_type": "markdown",
   "metadata": {},
   "source": [
    "Linearly Seprable Kernel"
   ]
  },
  {
   "cell_type": "markdown",
   "metadata": {},
   "source": [
    "![Alt text](Explanation_images/boundaryIssues.png)"
   ]
  },
  {
   "cell_type": "markdown",
   "metadata": {},
   "source": [
    "Methods:\n",
    "- Clip filter: black (0)\n",
    "- wrap around: change and flip each size (circular)\n",
    "- copy edge: repliate and scale it (replicate)\n",
    "- reflection: across edge (symmetric) --> The distribution of color or intensity values is not likely to change much across a small region, so padding with pixel values along the boundary is a good approximation of what might've actually been there if the image was larger.\n",
    "\n",
    "Also, the reflection method avoids introducing a possibly hard boundary."
   ]
  },
  {
   "cell_type": "markdown",
   "metadata": {},
   "source": [
    "<b>Linear Filters</b>\n",
    "\n",
    "- the impulse is 1 in the middle of the kernel.\n",
    "- the blur is all 1 to the left.\n",
    "- the 2 in the middle kernel - all ones it will be sharpening\n"
   ]
  },
  {
   "cell_type": "markdown",
   "metadata": {},
   "source": [
    "<b>Median Filter</b>\n",
    "- Median is edge preservering unlike the mean."
   ]
  },
  {
   "cell_type": "markdown",
   "metadata": {},
   "source": [
    "### <b>Filters as templates</b>"
   ]
  },
  {
   "cell_type": "markdown",
   "metadata": {},
   "source": []
  }
 ],
 "metadata": {
  "language_info": {
   "name": "python"
  }
 },
 "nbformat": 4,
 "nbformat_minor": 2
}
