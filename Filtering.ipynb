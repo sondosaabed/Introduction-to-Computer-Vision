{
 "cells": [
  {
   "cell_type": "markdown",
   "metadata": {},
   "source": [
    "## Filtering"
   ]
  },
  {
   "cell_type": "markdown",
   "metadata": {},
   "source": [
    "Suppose I have a noise instead and I want to remove it instead of apply it.\n",
    "\n",
    "- Replace the value of pixel of sort of an average of the pixels around it.\n",
    "- Smoothed: Averaged it locally \n",
    "\n",
    "Assumptions:\n",
    "- Because probably value of pixel are similar to the true value of pixels.\n",
    "- The noise is added independantly to each pixel.\n",
    "![Alt text](Explanation_images/noiseSol1.png)"
   ]
  },
  {
   "cell_type": "markdown",
   "metadata": {},
   "source": [
    "<b>Weighted Moving Avergae</b>\n",
    "- Actually better than the uniformal wiethed it's smoother \n",
    "- We tend to use odd weights: makes it easier to have a middle pixel\n",
    "\n",
    "![Weighted Smooth](Explanation_images/weightedSmooth.png)"
   ]
  },
  {
   "cell_type": "code",
   "execution_count": null,
   "metadata": {},
   "outputs": [],
   "source": []
  }
 ],
 "metadata": {
  "language_info": {
   "name": "python"
  }
 },
 "nbformat": 4,
 "nbformat_minor": 2
}
