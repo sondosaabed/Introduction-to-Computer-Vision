{
 "cells": [
  {
   "cell_type": "markdown",
   "metadata": {},
   "source": [
    "### Edge Detection"
   ]
  },
  {
   "cell_type": "markdown",
   "metadata": {},
   "source": [
    "Reduced Image: meaningful but have little pixels of diffrent scaled values. Someone just drawn the edges so they seem to convey whats going on.\n",
    "\n",
    "![Alt text](Explanation_images/reducedImages.png)"
   ]
  },
  {
   "cell_type": "markdown",
   "metadata": {},
   "source": [
    "![Alt text](Explanation_images/OriginOfEdges.png)"
   ]
  },
  {
   "cell_type": "markdown",
   "metadata": {},
   "source": [
    "The basic idea is to look for a neighborhood with strong signs of change"
   ]
  },
  {
   "cell_type": "markdown",
   "metadata": {},
   "source": [
    "- Finding edges is the same as finding the peaks in the derivative\n",
    "\n",
    "![Alt text](Explanation_images/derivatives.png)"
   ]
  },
  {
   "cell_type": "markdown",
   "metadata": {},
   "source": [
    "<b>Diffrential Operators</b>\n",
    "\n",
    "- when applied it returns derivaatives.\n",
    "- threshold to select the pixels.\n",
    "\n",
    "- partial derevative\n",
    "    - changing in the x direction\n",
    "    - changes in the y direction\n",
    "    - both angle and magnitude"
   ]
  },
  {
   "cell_type": "markdown",
   "metadata": {},
   "source": []
  }
 ],
 "metadata": {
  "language_info": {
   "name": "python"
  }
 },
 "nbformat": 4,
 "nbformat_minor": 2
}
