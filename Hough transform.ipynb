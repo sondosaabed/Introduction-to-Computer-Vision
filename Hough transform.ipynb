{
 "cells": [
  {
   "cell_type": "markdown",
   "metadata": {},
   "source": [
    "#### For Lines"
   ]
  },
  {
   "cell_type": "markdown",
   "metadata": {},
   "source": [
    "<b>Parametric</b>\n",
    "- A class that represnt a set of instances where each is defined by a value of the parameters\n",
    "- like lines, circles, parametarized templates\n",
    "- Computational complexity matters"
   ]
  },
  {
   "cell_type": "markdown",
   "metadata": {},
   "source": [
    "<b>Line Fitting</b>\n",
    "\n",
    "- When running the edge detection:\n",
    "    - extra edge points (clutter), multiple models.\n",
    "    -some parts of each line is dedtected, others are missing\n",
    "    - there could be noise."
   ]
  },
  {
   "cell_type": "markdown",
   "metadata": {},
   "source": [
    "<b>Voting</b>\n",
    "- It doesn't make sense to try all of the possible lines.\n",
    "- instead we use voting\n",
    "- we let them vote."
   ]
  },
  {
   "cell_type": "markdown",
   "metadata": {},
   "source": [
    "<b>Hough space</b>\n",
    "- a point in the image coresspondes to a line in the hough space.\n",
    "- i collect votes, the largest is the line"
   ]
  },
  {
   "cell_type": "markdown",
   "metadata": {},
   "source": [
    "<p>space compleczity</b>\n",
    "- k^n (n dimensions, k bins (theta)each)"
   ]
  },
  {
   "cell_type": "markdown",
   "metadata": {},
   "source": [
    "#### For Circles"
   ]
  },
  {
   "cell_type": "markdown",
   "metadata": {},
   "source": [
    "- also votes but for (radious around the hough space)\n",
    "- if i have pennies I want to detect I will use  larger radious for example.\n",
    "- in hough space it's a cone"
   ]
  },
  {
   "cell_type": "markdown",
   "metadata": {},
   "source": [
    "#### Generalized Hough Transform"
   ]
  },
  {
   "cell_type": "markdown",
   "metadata": {},
   "source": [
    "- build a hough table.\n",
    "- indexed by theta.\n",
    "- if the orientation is knwown is diffrent than whe nit's not (worse space complexity)."
   ]
  }
 ],
 "metadata": {
  "language_info": {
   "name": "python"
  }
 },
 "nbformat": 4,
 "nbformat_minor": 2
}
