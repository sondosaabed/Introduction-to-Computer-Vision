{
 "cells": [
  {
   "cell_type": "markdown",
   "metadata": {},
   "source": [
    "### Segmentation"
   ]
  },
  {
   "cell_type": "markdown",
   "metadata": {},
   "source": [
    "- Mainly devide to regions\n",
    "- Segmentation may not agree, but in gerneal there will be agreemnet on the regions."
   ]
  },
  {
   "cell_type": "markdown",
   "metadata": {},
   "source": [
    "- Segmentation of Coherent Regions"
   ]
  },
  {
   "cell_type": "markdown",
   "metadata": {},
   "source": [
    "![Alt text](Explanation_images/cohRegions.png)"
   ]
  },
  {
   "cell_type": "markdown",
   "metadata": {},
   "source": [
    "- Figure ground Segmentation "
   ]
  },
  {
   "cell_type": "markdown",
   "metadata": {},
   "source": [
    "![Alt text](Explanation_images/figGround.png)"
   ]
  },
  {
   "cell_type": "markdown",
   "metadata": {},
   "source": [
    "- Grouping of similar Neighbours\n",
    "    - Getting Superpixels is a form of seg"
   ]
  },
  {
   "cell_type": "markdown",
   "metadata": {},
   "source": [
    "![Alt text](Explanation_images/superPizels.png)"
   ]
  },
  {
   "cell_type": "markdown",
   "metadata": {},
   "source": [
    "#### Clustering"
   ]
  },
  {
   "cell_type": "markdown",
   "metadata": {},
   "source": [
    "- which pixels belongs together\n",
    "- When I have noisy image \n",
    "- then I plot it's histogram "
   ]
  },
  {
   "cell_type": "markdown",
   "metadata": {},
   "source": [
    "![Alt text](Explanation_images/clustering.png)"
   ]
  },
  {
   "cell_type": "markdown",
   "metadata": {},
   "source": [
    "- To chose centers as the representative intensities\n",
    "- Minimization of SSD Sum Square distances\n",
    "- To the closest cluster center we assign the point\n",
    "- I put the center of them is the mean of them (because it will minize it)\n",
    "\n",
    "<b>K-means clustering: Algorithm</b>"
   ]
  },
  {
   "cell_type": "markdown",
   "metadata": {},
   "source": [
    "- What about the number of clusters. the results differs\n",
    "- like we have to tell the algorthim the number of clusters\n",
    "- it can be thought of as quantization of the feature space segmentation label map.\n",
    "- the problem with it that it is spherical, it looks for spherical clusters"
   ]
  },
  {
   "cell_type": "markdown",
   "metadata": {},
   "source": [
    "- We can cluster on both intensity+position"
   ]
  },
  {
   "cell_type": "markdown",
   "metadata": {},
   "source": [
    "#### Mean Shift Segmenattion"
   ]
  },
  {
   "cell_type": "markdown",
   "metadata": {},
   "source": [
    "<b>Mean shift Algorithm</b>"
   ]
  },
  {
   "cell_type": "markdown",
   "metadata": {},
   "source": [
    "- Find the modes or local maxima of denisty\n",
    "- LUV is easier with clored of this algorithm"
   ]
  },
  {
   "cell_type": "markdown",
   "metadata": {},
   "source": [
    "- Region of intrest (could be circle )\n",
    "- Center of mass\n",
    "- diffrence of them (mean shift vector)\n",
    "- and then shift the center\n",
    "- until it converges "
   ]
  },
  {
   "cell_type": "markdown",
   "metadata": {},
   "source": [
    "- attraction basin: the region for whcich all trajectories lead to the same mode."
   ]
  },
  {
   "cell_type": "markdown",
   "metadata": {},
   "source": [
    "- automatically finds the basians of attraction"
   ]
  },
  {
   "cell_type": "markdown",
   "metadata": {},
   "source": [
    "<b>Texture based segmentation (regions)</b>\n",
    "- it's better than the color based approach"
   ]
  },
  {
   "cell_type": "markdown",
   "metadata": {},
   "source": [
    "#### Segmentation by graph partitioning"
   ]
  },
  {
   "cell_type": "markdown",
   "metadata": {},
   "source": [
    "- Measuring affinity\n",
    "\n",
    "- If I have a graph, I can segement by breacking the egraph into segments\n",
    "- and delete links that is between the segments"
   ]
  },
  {
   "cell_type": "markdown",
   "metadata": {},
   "source": [
    "Graph Cut Algorithm\n",
    "-  Set edges whose removal makes a graph disconnected\n",
    "- Cost of a cut: sum of weights of cut edges.\n",
    "- Min-cut algorithm (find a minimun cut)\n",
    "- tends to cut very small segments, so instead we do normalized cuts."
   ]
  },
  {
   "cell_type": "markdown",
   "metadata": {},
   "source": [
    "Normalized cut\n",
    "- Fixes the bias\n",
    "- Generalized eigenva;ue probelm\n",
    "- most used"
   ]
  }
 ],
 "metadata": {
  "language_info": {
   "name": "python"
  }
 },
 "nbformat": 4,
 "nbformat_minor": 2
}
