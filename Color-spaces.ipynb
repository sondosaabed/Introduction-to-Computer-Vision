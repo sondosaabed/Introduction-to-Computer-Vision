{
 "cells": [
  {
   "cell_type": "markdown",
   "metadata": {},
   "source": [
    "Rods are resposible for high resolution vision"
   ]
  },
  {
   "cell_type": "markdown",
   "metadata": {},
   "source": [
    "- Color is a psychological phenomenon\n",
    "- Most men have color blind \n",
    "- it's about the cons"
   ]
  },
  {
   "cell_type": "markdown",
   "metadata": {},
   "source": [
    "<b>Luminiance</b>\n",
    "- Have the same amount of luminiace (will not be seen well)\n",
    "- Have diffrent will be seen"
   ]
  },
  {
   "cell_type": "markdown",
   "metadata": {},
   "source": [
    "![Alt text](Explanation_images/lumainance.png)"
   ]
  },
  {
   "cell_type": "markdown",
   "metadata": {},
   "source": [
    "<b>Saturation or Chroma </b>"
   ]
  },
  {
   "cell_type": "markdown",
   "metadata": {},
   "source": [
    "<b>RGB Color space</b>\n",
    "\n",
    "![Alt text](Explanation_images/rgb.png)"
   ]
  },
  {
   "cell_type": "markdown",
   "metadata": {},
   "source": [
    "- If something is oustide the color Gamut of a device\n",
    "    - Let's say a printer (it will print another color like purple instead of the shiny blue)\n",
    "    - Let's say a screen or a monitor has color gamut specif, it will not proberly read the specific color."
   ]
  },
  {
   "cell_type": "markdown",
   "metadata": {},
   "source": [
    "![Alt text](Explanation_images/colorGamut.jpg)"
   ]
  }
 ],
 "metadata": {
  "language_info": {
   "name": "python"
  }
 },
 "nbformat": 4,
 "nbformat_minor": 2
}
