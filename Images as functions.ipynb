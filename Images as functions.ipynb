{
 "cells": [
  {
   "cell_type": "markdown",
   "metadata": {},
   "source": [
    "# Images as Functions"
   ]
  },
  {
   "cell_type": "markdown",
   "metadata": {},
   "source": [
    "![Image as a function](Explanation_images/imageFunc.png)"
   ]
  },
  {
   "cell_type": "markdown",
   "metadata": {},
   "source": [
    "- Black and white: Single channel \n",
    "- the picture is a actually a function I(x,y)\n",
    "- I is a function of intensity\n",
    "- An image can be thought of also as an array (two dimensional from min to max for example)\n",
    "- It's like if I view the picture as a surface \n",
    "- the higher it makes it brighter, dark spots are down\n",
    "\n",
    "![An Image as surface function](Explanation_images/surface.png)"
   ]
  },
  {
   "cell_type": "markdown",
   "metadata": {},
   "source": [
    "<b>Colored Images</b>\n",
    "- 0 - 255: 8 bits on a byte -> if they are all on all one we call that 255\n",
    "- for colored it's three functions r(x,y) g(x,y) b(x,y) -> I(x,y)\n",
    "- in this case I is a vector-valued functions\n",
    "\n",
    "![Colored Image as function](Explanation_images/coloredFunc.png)"
   ]
  },
  {
   "cell_type": "markdown",
   "metadata": {},
   "source": [
    "<b>pixels in colored images</b>\n",
    "\n",
    "![Colored Image size](Explanation_images/coloredPixels.png)"
   ]
  },
  {
   "cell_type": "markdown",
   "metadata": {},
   "source": [
    "<b>Image processing</b>\n",
    "\n",
    "It is actually taking these fuctions and make some calculations with it.\n",
    "- Like here I smooth it, it become smother peaks\n",
    "\n",
    "![Smoothed Image](Explanation_images/smoothing.png)"
   ]
  },
  {
   "cell_type": "markdown",
   "metadata": {},
   "source": [
    "## <b>Digital Images</b>"
   ]
  },
  {
   "cell_type": "markdown",
   "metadata": {},
   "source": [
    "- Digital are (discrete) images:\n",
    "    - Sample the 2D space on regular grid\n",
    "    ![Digital images sampeled](Explanation_images/digitalImages.png)\n",
    "    - Quantize each sample (round to \"nearest integer\")\n",
    "    ![Quantized image](Explanation_images/quantized.png)\n",
    "\n",
    "- pixels are: picture elments"
   ]
  }
 ],
 "metadata": {
  "kernelspec": {
   "display_name": "Python 3",
   "language": "python",
   "name": "python3"
  },
  "language_info": {
   "codemirror_mode": {
    "name": "ipython",
    "version": 3
   },
   "file_extension": ".py",
   "mimetype": "text/x-python",
   "name": "python",
   "nbconvert_exporter": "python",
   "pygments_lexer": "ipython3",
   "version": "3.11.0"
  }
 },
 "nbformat": 4,
 "nbformat_minor": 2
}
