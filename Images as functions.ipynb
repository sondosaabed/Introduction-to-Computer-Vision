{
 "cells": [
  {
   "cell_type": "markdown",
   "metadata": {},
   "source": [
    "# Images as Functions"
   ]
  },
  {
   "cell_type": "markdown",
   "metadata": {},
   "source": [
    "![Image as a function](Explanation_images/imageFunc.png)"
   ]
  },
  {
   "cell_type": "markdown",
   "metadata": {},
   "source": [
    "- Black and white: Single channel \n",
    "- the picture is a actually a function I(x,y)\n",
    "- I is a function of intensity\n",
    "- An image can be thought of also as an array (two dimensional from min to max for example)\n",
    "- It's like if I view the picture as a surface \n",
    "- the higher it makes it brighter, dark spots are down\n",
    "\n",
    "![An Image as surface function](Explanation_images/surface.png)"
   ]
  },
  {
   "cell_type": "markdown",
   "metadata": {},
   "source": [
    "<b>Colored Images</b>\n",
    "- 0 - 255: 8 bits on a byte -> if they are all on all one we call that 255\n",
    "- for colored it's three functions r(x,y) g(x,y) b(x,y) -> I(x,y)\n",
    "- in this case I is a vector-valued functions\n",
    "\n",
    "![Colored Image as function](Explanation_images/coloredFunc.png)"
   ]
  },
  {
   "cell_type": "markdown",
   "metadata": {},
   "source": [
    "<b>pixels in colored images</b>\n",
    "\n",
    "![Colored Image size](Explanation_images/coloredPixels.png)"
   ]
  },
  {
   "cell_type": "markdown",
   "metadata": {},
   "source": [
    "<b>Image processing</b>\n",
    "\n",
    "It is actually taking these fuctions and make some calculations with it.\n",
    "- Like here I smooth it, it become smother peaks\n",
    "\n",
    "![Smoothed Image](Explanation_images/smoothing.png)"
   ]
  },
  {
   "cell_type": "markdown",
   "metadata": {},
   "source": [
    "## <b>Digital Images</b>"
   ]
  },
  {
   "cell_type": "markdown",
   "metadata": {},
   "source": [
    "- Digital are (discrete) images:\n",
    "    - Sample the 2D space on regular grid\n",
    "    ![Digital images sampeled](Explanation_images/digitalImages.png)\n",
    "    - Quantize each sample (round to \"nearest integer\")\n",
    "    ![Quantized image](Explanation_images/quantized.png)\n",
    "\n",
    "- pixels are: picture elments"
   ]
  },
  {
   "cell_type": "markdown",
   "metadata": {},
   "source": [
    "<b>Noise in images</b>\n",
    "- another image combined with another function\n",
    "\n",
    "Common types of noise\n",
    "- Salt and pepper: random black and white pixels\n",
    "- Impulse noise: random white pixels\n",
    "- Gaussian niose: form a gaussian norma distribution.\n",
    "\n",
    "![Gussian sigma](Explanation_images/sigma.png)"
   ]
  },
  {
   "cell_type": "markdown",
   "metadata": {},
   "source": [
    "## Setup"
   ]
  },
  {
   "cell_type": "code",
   "execution_count": null,
   "metadata": {},
   "outputs": [],
   "source": [
    "import cv2 as cv"
   ]
  },
  {
   "cell_type": "markdown",
   "metadata": {},
   "source": [
    "- read the image as an array "
   ]
  },
  {
   "cell_type": "code",
   "execution_count": null,
   "metadata": {},
   "outputs": [
    {
     "data": {
      "text/plain": [
       "array([[[216, 228, 246],\n",
       "        [216, 228, 246],\n",
       "        [216, 228, 246],\n",
       "        ...,\n",
       "        [218, 231, 247],\n",
       "        [218, 231, 247],\n",
       "        [218, 231, 247]],\n",
       "\n",
       "       [[217, 230, 246],\n",
       "        [215, 231, 244],\n",
       "        [217, 230, 246],\n",
       "        ...,\n",
       "        [216, 232, 244],\n",
       "        [218, 231, 245],\n",
       "        [216, 232, 244]],\n",
       "\n",
       "       [[243, 246, 254],\n",
       "        [241, 247, 254],\n",
       "        [243, 246, 254],\n",
       "        ...,\n",
       "        [243, 249, 254],\n",
       "        [245, 249, 254],\n",
       "        [243, 249, 254]],\n",
       "\n",
       "       ...,\n",
       "\n",
       "       [[  4,   2,   2],\n",
       "        [  4,   2,   2],\n",
       "        [  4,   2,   2],\n",
       "        ...,\n",
       "        [  0,   0,   3],\n",
       "        [  0,   0,   3],\n",
       "        [  3,   4,   8]],\n",
       "\n",
       "       [[219, 232, 246],\n",
       "        [219, 232, 246],\n",
       "        [219, 232, 246],\n",
       "        ...,\n",
       "        [218, 231, 247],\n",
       "        [218, 231, 247],\n",
       "        [218, 231, 247]],\n",
       "\n",
       "       [[218, 231, 245],\n",
       "        [218, 231, 245],\n",
       "        [218, 231, 245],\n",
       "        ...,\n",
       "        [218, 231, 247],\n",
       "        [218, 231, 247],\n",
       "        [218, 231, 247]]], dtype=uint8)"
      ]
     },
     "metadata": {},
     "output_type": "display_data"
    }
   ],
   "source": [
    "image = cv.imread('myPic.jpg')\n",
    "image[::3]"
   ]
  },
  {
   "cell_type": "code",
   "execution_count": null,
   "metadata": {},
   "outputs": [],
   "source": [
    "cv.imshow('Window',image)\n",
    "cv.waitKey(0)\n",
    "cv.destroyAllWindows()"
   ]
  },
  {
   "cell_type": "markdown",
   "metadata": {},
   "source": [
    "![Alt text](Explanation_images/imgShow.png)"
   ]
  },
  {
   "cell_type": "code",
   "execution_count": null,
   "metadata": {},
   "outputs": [],
   "source": []
  }
 ],
 "metadata": {
  "kernelspec": {
   "display_name": "Python 3",
   "language": "python",
   "name": "python3"
  },
  "language_info": {
   "codemirror_mode": {
    "name": "ipython",
    "version": 3
   },
   "file_extension": ".py",
   "mimetype": "text/x-python",
   "name": "python",
   "nbconvert_exporter": "python",
   "pygments_lexer": "ipython3",
   "version": "3.11.0"
  }
 },
 "nbformat": 4,
 "nbformat_minor": 2
}
