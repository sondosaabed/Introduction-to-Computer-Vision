{
 "cells": [
  {
   "cell_type": "markdown",
   "metadata": {},
   "source": [
    "# Introduction\n",
    "\n",
    "<b>Aims:</b>\n",
    "- How to analyze images and to extract content from images. That is how can we build a computer or a machine that can see and interpret an image.\n",
    "- Interpret: extracting information, knowledge we want to go beyond processing an image to really knwoing what is inside the image (content)."
   ]
  },
  {
   "cell_type": "markdown",
   "metadata": {},
   "source": [
    "<b>Goal: </b>\n",
    "\n",
    "- image and video understating (scene)\n",
    "- Labeling intresting things in image and tracking them move."
   ]
  },
  {
   "cell_type": "markdown",
   "metadata": {},
   "source": [
    "## Every picture tells a story\n",
    "\n",
    "<b>Why CV</b>\n",
    "\n",
    "- Images have become ubiquitous in bith production and consumption.\n",
    "- Therefore systems that extract information from imagery\n",
    "    - Surveillance\n",
    "    - Building 3D representations\n",
    "    - Motion capture assisted"
   ]
  },
  {
   "cell_type": "markdown",
   "metadata": {},
   "source": [
    "## State of art of CV\n",
    "\n",
    "- OCR\n",
    "    - License plate readers\n",
    "    - Handwritten Digit recognition\n",
    "- Face detection\n",
    "    - smile detection\n",
    "    - camera based login (Recognition)\n",
    "    - Students engagement (COOL)\n",
    "- Object recognition (Google glass)\n",
    "- Scan the face of someone (like in matrix)\n",
    "- CGI\n",
    "- Earth viewers (3D modeling)\n",
    "- Smart cars (pedestrians): economy and policy (and thats when you know it's real)\n",
    "- Sports: like the line detection for some rules like the line (but could fail in rain)\n",
    "- Vision-based interaction and games: (produce skeletal ddescription), like driving a car \n",
    "- Medical imaging: image guided surgery (I love this)"
   ]
  },
  {
   "cell_type": "markdown",
   "metadata": {},
   "source": [
    "## Why is This Hard\n",
    "- Our brain is delusional (LOL)\n",
    "- Like sometimes we think a color is darker but it could be the same intensity.\n",
    "\n",
    "#### Vision is NOT Image Processing \n",
    "- So seeing is not the same as measuring properties in the image\n",
    "- Seeing is Building the percept "
   ]
  },
  {
   "cell_type": "markdown",
   "metadata": {},
   "source": [
    "Three ways of thinking whats going on:\n",
    "- Math (theory)\n",
    "- Algorithm\n",
    "- Real Image (Ground truth)\n",
    "\n",
    "![Alt text](Explanation_images/trio.png)"
   ]
  }
 ],
 "metadata": {
  "language_info": {
   "name": "python"
  }
 },
 "nbformat": 4,
 "nbformat_minor": 2
}
