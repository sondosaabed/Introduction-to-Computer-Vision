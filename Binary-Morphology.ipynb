{
 "cells": [
  {
   "cell_type": "markdown",
   "metadata": {},
   "source": [
    "#### Binary Image Analysis"
   ]
  },
  {
   "cell_type": "markdown",
   "metadata": {},
   "source": [
    "Practical application\n",
    "- Part inseption\n",
    "- Manufacturing\n",
    "- Documnet processing"
   ]
  },
  {
   "cell_type": "markdown",
   "metadata": {},
   "source": [
    "Operations\n",
    "- Seprate objects from background and from one another.\n",
    "- aggregate pxels for each object.\n",
    "- Compute features for each object."
   ]
  },
  {
   "cell_type": "markdown",
   "metadata": {},
   "source": [
    "<b>Useful OPerations</b>\n",
    "- Thresholding a gray-scale image\n",
    "- Determining good threshlods\n",
    "- Connected compemts analysis\n",
    "- Binary mathematical morphology\n",
    "- All sorts of feature extractors, statistics (area, cebtroid, circulariy)"
   ]
  },
  {
   "cell_type": "markdown",
   "metadata": {},
   "source": [
    "##### <b>Threshholding</b>\n",
    "- Based on histogram\n",
    "- Best thresh\n",
    "\n",
    "the assumption\n",
    "- assume the histogram is bimodal.\n",
    "- Minimzation of wieghted group variances"
   ]
  },
  {
   "cell_type": "markdown",
   "metadata": {},
   "source": [
    "<b>Connected Components Analysis (Labeling)</b>\n",
    "- identfy each connected set of pixels\n",
    "- generates the labeled image of (connected pixeles)"
   ]
  },
  {
   "cell_type": "markdown",
   "metadata": {},
   "source": [
    "Methods\n",
    "- Recursice Tracking (almost never used)\n",
    "- Parallel Growing (needs parallel hardware)\n",
    "- Raw-By-row (most common)\n",
    "    - Classical algorithm\n",
    "    - Effienct Run-Length alogorthim (develpoed for speed in real industry applications)"
   ]
  },
  {
   "cell_type": "markdown",
   "metadata": {},
   "source": [
    "##### <b>Dilaion & Erosiom</b>"
   ]
  },
  {
   "cell_type": "markdown",
   "metadata": {},
   "source": [
    "Mathematical Morphholgy\n",
    "- Two basic operations\n",
    "    - Dilation \n",
    "    - Erioion\n",
    "- Composite relations\n",
    "    - Closing and opening\n",
    "    - Thinning and thickening"
   ]
  },
  {
   "cell_type": "markdown",
   "metadata": {},
   "source": [
    "<b>Dilation</b>\n",
    "- Dilation expands the connected ssets of 1s of a binary image\n",
    "- in general used for:\n",
    "    - Growing Features\n",
    "    - Filling holes and gaps"
   ]
  },
  {
   "cell_type": "markdown",
   "metadata": {},
   "source": [
    "<b>Eroisoin</b>\n",
    "- Shrinks the conncted sets of 1s of a binary image\n",
    "- Used for:\n",
    "    - Shrinkning features\n",
    "    - Removing bridges, branches, protrusions."
   ]
  },
  {
   "cell_type": "markdown",
   "metadata": {},
   "source": [
    "<b>Structring Elemnt</b>\n",
    "- A shape mask\n",
    "    - any shape, size that is digitally representable\n",
    "    - with a defined origin\n",
    "\n",
    "- Take the structure elemnt and run it on the image\n",
    "    - For dilation: use OR    \n",
    "    - For Erosion we take the AND."
   ]
  },
  {
   "cell_type": "markdown",
   "metadata": {},
   "source": [
    "![Alt text](Explanation_images/structureElement.png)"
   ]
  },
  {
   "cell_type": "markdown",
   "metadata": {},
   "source": [
    "Effect of disk size on erosion\n",
    "- Radius if bigger will remove the edges \n",
    "- it shrinks the pictire"
   ]
  },
  {
   "cell_type": "markdown",
   "metadata": {},
   "source": [
    "So because I don't nethier want to shrink nor to grow my features I only wnat to discinnect them. This is why I use OPenning and closing"
   ]
  }
 ],
 "metadata": {
  "kernelspec": {
   "display_name": "Python 3",
   "language": "python",
   "name": "python3"
  },
  "language_info": {
   "name": "python",
   "version": "3.11.0"
  }
 },
 "nbformat": 4,
 "nbformat_minor": 2
}
