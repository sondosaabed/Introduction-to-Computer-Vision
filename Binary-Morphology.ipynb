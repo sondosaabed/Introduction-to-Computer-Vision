{
 "cells": [
  {
   "cell_type": "markdown",
   "metadata": {},
   "source": [
    "#### Binary Image Analysis"
   ]
  },
  {
   "cell_type": "markdown",
   "metadata": {},
   "source": [
    "Practical application\n",
    "- Part inseption\n",
    "- Manufacturing\n",
    "- Documnet processing"
   ]
  },
  {
   "cell_type": "markdown",
   "metadata": {},
   "source": [
    "Operations\n",
    "- Seprate objects from background and from one another.\n",
    "- aggregate pxels for each object.\n",
    "- Compute features for each object."
   ]
  },
  {
   "cell_type": "markdown",
   "metadata": {},
   "source": [
    "<b>Useful OPerations</b>\n",
    "- Thresholding a gray-scale image\n",
    "- Determining good threshlods\n",
    "- Connected compemts analysis\n",
    "- Binary mathematical morphology\n",
    "- All sorts of feature extractors, statistics (area, cebtroid, circulariy)"
   ]
  },
  {
   "cell_type": "markdown",
   "metadata": {},
   "source": [
    "<b>Threshholding</b>\n",
    "- Based on histogram\n",
    "- Best thresh\n",
    "\n",
    "the assumption\n",
    "- assume the histogram is bimodal.\n",
    "- Minimzation of wieghted group variances"
   ]
  }
 ],
 "metadata": {
  "kernelspec": {
   "display_name": "Python 3",
   "language": "python",
   "name": "python3"
  },
  "language_info": {
   "name": "python",
   "version": "3.11.0"
  }
 },
 "nbformat": 4,
 "nbformat_minor": 2
}
