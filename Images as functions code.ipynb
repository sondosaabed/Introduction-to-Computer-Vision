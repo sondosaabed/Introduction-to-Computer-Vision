{
 "cells": [
  {
   "cell_type": "markdown",
   "metadata": {},
   "source": [
    "## Setup"
   ]
  },
  {
   "cell_type": "code",
   "execution_count": 2,
   "metadata": {},
   "outputs": [],
   "source": [
    "import cv2 as cv"
   ]
  },
  {
   "cell_type": "markdown",
   "metadata": {},
   "source": [
    "- read the image as an array "
   ]
  },
  {
   "cell_type": "code",
   "execution_count": 3,
   "metadata": {},
   "outputs": [
    {
     "data": {
      "text/plain": [
       "array([[[216, 228, 246],\n",
       "        [216, 228, 246],\n",
       "        [216, 228, 246],\n",
       "        ...,\n",
       "        [218, 231, 247],\n",
       "        [218, 231, 247],\n",
       "        [218, 231, 247]],\n",
       "\n",
       "       [[217, 230, 246],\n",
       "        [215, 231, 244],\n",
       "        [217, 230, 246],\n",
       "        ...,\n",
       "        [216, 232, 244],\n",
       "        [218, 231, 245],\n",
       "        [216, 232, 244]],\n",
       "\n",
       "       [[243, 246, 254],\n",
       "        [241, 247, 254],\n",
       "        [243, 246, 254],\n",
       "        ...,\n",
       "        [243, 249, 254],\n",
       "        [245, 249, 254],\n",
       "        [243, 249, 254]],\n",
       "\n",
       "       ...,\n",
       "\n",
       "       [[  4,   2,   2],\n",
       "        [  4,   2,   2],\n",
       "        [  4,   2,   2],\n",
       "        ...,\n",
       "        [  0,   0,   3],\n",
       "        [  0,   0,   3],\n",
       "        [  3,   4,   8]],\n",
       "\n",
       "       [[219, 232, 246],\n",
       "        [219, 232, 246],\n",
       "        [219, 232, 246],\n",
       "        ...,\n",
       "        [218, 231, 247],\n",
       "        [218, 231, 247],\n",
       "        [218, 231, 247]],\n",
       "\n",
       "       [[218, 231, 245],\n",
       "        [218, 231, 245],\n",
       "        [218, 231, 245],\n",
       "        ...,\n",
       "        [218, 231, 247],\n",
       "        [218, 231, 247],\n",
       "        [218, 231, 247]]], dtype=uint8)"
      ]
     },
     "execution_count": 3,
     "metadata": {},
     "output_type": "execute_result"
    }
   ],
   "source": [
    "image = cv.imread('myPic.jpg')\n",
    "image[::3]"
   ]
  },
  {
   "cell_type": "code",
   "execution_count": 4,
   "metadata": {},
   "outputs": [],
   "source": [
    "cv.imshow('Window',image)\n",
    "cv.waitKey(0)\n",
    "cv.destroyAllWindows()"
   ]
  },
  {
   "cell_type": "markdown",
   "metadata": {},
   "source": [
    "![Alt text](Explanation_images/imgShow.png)"
   ]
  }
 ],
 "metadata": {
  "kernelspec": {
   "display_name": "Python 3",
   "language": "python",
   "name": "python3"
  },
  "language_info": {
   "codemirror_mode": {
    "name": "ipython",
    "version": 3
   },
   "file_extension": ".py",
   "mimetype": "text/x-python",
   "name": "python",
   "nbconvert_exporter": "python",
   "pygments_lexer": "ipython3",
   "version": "3.11.0"
  }
 },
 "nbformat": 4,
 "nbformat_minor": 2
}
