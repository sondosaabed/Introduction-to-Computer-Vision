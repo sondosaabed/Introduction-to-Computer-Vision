{
 "cells": [
  {
   "cell_type": "markdown",
   "metadata": {},
   "source": [
    "### Edge Detection"
   ]
  },
  {
   "cell_type": "markdown",
   "metadata": {},
   "source": [
    "Reduced Image: meaningful but have little pixels of diffrent scaled values. Someone just drawn the edges so they seem to convey whats going on.\n",
    "\n",
    "![Alt text](Explanation_images/reducedImages.png)"
   ]
  },
  {
   "cell_type": "markdown",
   "metadata": {},
   "source": [
    "![Alt text](Explanation_images/OriginOfEdges.png)"
   ]
  },
  {
   "cell_type": "markdown",
   "metadata": {},
   "source": [
    "The basic idea is to look for a neighborhood with strong signs of change"
   ]
  },
  {
   "cell_type": "markdown",
   "metadata": {},
   "source": [
    "- Finding edges is the same as finding the peaks in the derivative\n",
    "\n",
    "![Alt text](Explanation_images/derivatives.png)"
   ]
  },
  {
   "cell_type": "markdown",
   "metadata": {},
   "source": [
    "<b>Diffrential Operators</b>\n",
    "\n",
    "- when applied it returns derivaatives.\n",
    "- threshold to select the pixels.\n",
    "\n",
    "- partial derevative\n",
    "    - changing in the x direction\n",
    "    - changes in the y direction\n",
    "    - both angle and magnitude"
   ]
  },
  {
   "cell_type": "markdown",
   "metadata": {},
   "source": [
    "<b>Discrete gradiant</b>\n",
    "\n",
    "right derivative.\n",
    "- minimum & maximum thresh.its about the vertical lines or horizontal. .\n",
    "- to know if x or y look at the detected edges.\n",
    "- Average of the left and right derivatives."
   ]
  },
  {
   "cell_type": "markdown",
   "metadata": {},
   "source": [
    "<b>Sobel Operator</b>\n",
    "- named after someone\n",
    "- imgradientxy (apply the sobel by deauflut ) but it doesn't devide by 8 so it's problem.\n",
    "\n",
    "in Sobel first\n",
    "- gradient magnitude\n",
    "- then we threshold it"
   ]
  },
  {
   "cell_type": "markdown",
   "metadata": {},
   "source": [
    "<b>some well-known gradient masks:\n",
    "- Sobel\n",
    "- Prewitt\n",
    "- Roberts"
   ]
  },
  {
   "cell_type": "markdown",
   "metadata": {},
   "source": [
    "Correlation preserves the intended directionality of gradients, so yes, that is the preferred option."
   ]
  },
  {
   "cell_type": "markdown",
   "metadata": {},
   "source": [
    "<b>Smooth first</b>\n",
    "- but we can also apply the derivative twice since it will save us one operation.\n",
    "\n",
    "\n",
    "Associativity allowed us to change which operators were applied first.\n",
    "\n",
    "Also, differentiation is a linear operation - this let us utilize the associativity property in the first place."
   ]
  },
  {
   "cell_type": "markdown",
   "metadata": {},
   "source": [
    "<b>Canny </b>\n",
    "- smooth\n",
    "- threshold\n",
    "- thin (non maximim supression)\n",
    "- link together\n",
    "\n",
    "- the prblem it supports more of those which has more magnitude"
   ]
  }
 ],
 "metadata": {
  "language_info": {
   "name": "python"
  }
 },
 "nbformat": 4,
 "nbformat_minor": 2
}
